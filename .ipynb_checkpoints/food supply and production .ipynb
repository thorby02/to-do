{
 "cells": [
  {
   "cell_type": "markdown",
   "id": "570c1908",
   "metadata": {},
   "source": [
    "#### Importing packages we need"
   ]
  },
  {
   "cell_type": "code",
   "execution_count": 1,
   "id": "f87b6d68",
   "metadata": {},
   "outputs": [],
   "source": [
    "import pandas as pd\n",
    "import numpy as np\n",
    "import matplotlib.pyplot as plt"
   ]
  },
  {
   "cell_type": "code",
   "execution_count": 44,
   "id": "70601d72",
   "metadata": {},
   "outputs": [],
   "source": [
    "import seaborn as sns"
   ]
  },
  {
   "cell_type": "markdown",
   "id": "f54ec942",
   "metadata": {},
   "source": [
    "#### Loading our dataset of food production"
   ]
  },
  {
   "cell_type": "code",
   "execution_count": 53,
   "id": "32e28b8e",
   "metadata": {
    "scrolled": true
   },
   "outputs": [
    {
     "data": {
      "text/html": [
       "<div>\n",
       "<style scoped>\n",
       "    .dataframe tbody tr th:only-of-type {\n",
       "        vertical-align: middle;\n",
       "    }\n",
       "\n",
       "    .dataframe tbody tr th {\n",
       "        vertical-align: top;\n",
       "    }\n",
       "\n",
       "    .dataframe thead th {\n",
       "        text-align: right;\n",
       "    }\n",
       "</style>\n",
       "<table border=\"1\" class=\"dataframe\">\n",
       "  <thead>\n",
       "    <tr style=\"text-align: right;\">\n",
       "      <th></th>\n",
       "      <th>Country</th>\n",
       "      <th>Item</th>\n",
       "      <th>Year</th>\n",
       "      <th>Value</th>\n",
       "    </tr>\n",
       "  </thead>\n",
       "  <tbody>\n",
       "    <tr>\n",
       "      <th>0</th>\n",
       "      <td>Algeria</td>\n",
       "      <td>Wheat and products</td>\n",
       "      <td>2004</td>\n",
       "      <td>2731</td>\n",
       "    </tr>\n",
       "    <tr>\n",
       "      <th>1</th>\n",
       "      <td>Algeria</td>\n",
       "      <td>Wheat and products</td>\n",
       "      <td>2005</td>\n",
       "      <td>2415</td>\n",
       "    </tr>\n",
       "    <tr>\n",
       "      <th>2</th>\n",
       "      <td>Algeria</td>\n",
       "      <td>Wheat and products</td>\n",
       "      <td>2006</td>\n",
       "      <td>2688</td>\n",
       "    </tr>\n",
       "    <tr>\n",
       "      <th>3</th>\n",
       "      <td>Algeria</td>\n",
       "      <td>Wheat and products</td>\n",
       "      <td>2007</td>\n",
       "      <td>2319</td>\n",
       "    </tr>\n",
       "    <tr>\n",
       "      <th>4</th>\n",
       "      <td>Algeria</td>\n",
       "      <td>Wheat and products</td>\n",
       "      <td>2008</td>\n",
       "      <td>1111</td>\n",
       "    </tr>\n",
       "  </tbody>\n",
       "</table>\n",
       "</div>"
      ],
      "text/plain": [
       "   Country                Item  Year  Value\n",
       "0  Algeria  Wheat and products  2004   2731\n",
       "1  Algeria  Wheat and products  2005   2415\n",
       "2  Algeria  Wheat and products  2006   2688\n",
       "3  Algeria  Wheat and products  2007   2319\n",
       "4  Algeria  Wheat and products  2008   1111"
      ]
     },
     "execution_count": 53,
     "metadata": {},
     "output_type": "execute_result"
    }
   ],
   "source": [
    "afp = pd.read_csv(r\"C:\\Users\\kvng HARDEYPORNLAY\\Downloads\\AfricaFoodProduction(2004-2013).csv\")\n",
    "afp.head()"
   ]
  },
  {
   "cell_type": "code",
   "execution_count": 54,
   "id": "d19c5d57",
   "metadata": {},
   "outputs": [
    {
     "name": "stdout",
     "output_type": "stream",
     "text": [
      "<class 'pandas.core.frame.DataFrame'>\n",
      "RangeIndex: 23110 entries, 0 to 23109\n",
      "Data columns (total 4 columns):\n",
      " #   Column   Non-Null Count  Dtype \n",
      "---  ------   --------------  ----- \n",
      " 0   Country  23110 non-null  object\n",
      " 1   Item     23110 non-null  object\n",
      " 2   Year     23110 non-null  int64 \n",
      " 3   Value    23110 non-null  int64 \n",
      "dtypes: int64(2), object(2)\n",
      "memory usage: 722.3+ KB\n"
     ]
    }
   ],
   "source": [
    "afp.info()"
   ]
  },
  {
   "cell_type": "markdown",
   "id": "7d9cb35a",
   "metadata": {},
   "source": [
    "#### Converting the year column "
   ]
  },
  {
   "cell_type": "code",
   "execution_count": 55,
   "id": "69139942",
   "metadata": {},
   "outputs": [],
   "source": [
    "afp['Year'] = pd.to_datetime(afp['Year'],format='%Y')"
   ]
  },
  {
   "cell_type": "code",
   "execution_count": 56,
   "id": "0be48908",
   "metadata": {},
   "outputs": [],
   "source": [
    "afp['year'] = afp['Year'].dt.year"
   ]
  },
  {
   "cell_type": "code",
   "execution_count": 57,
   "id": "8aa5c964",
   "metadata": {},
   "outputs": [
    {
     "name": "stdout",
     "output_type": "stream",
     "text": [
      "        Country                Item       Year  Value  year\n",
      "0       Algeria  Wheat and products 2004-01-01   2731  2004\n",
      "1       Algeria  Wheat and products 2005-01-01   2415  2005\n",
      "2       Algeria  Wheat and products 2006-01-01   2688  2006\n",
      "3       Algeria  Wheat and products 2007-01-01   2319  2007\n",
      "4       Algeria  Wheat and products 2008-01-01   1111  2008\n",
      "...         ...                 ...        ...    ...   ...\n",
      "23105  Zimbabwe         Crustaceans 2009-01-01      0  2009\n",
      "23106  Zimbabwe         Crustaceans 2010-01-01      0  2010\n",
      "23107  Zimbabwe         Crustaceans 2011-01-01      0  2011\n",
      "23108  Zimbabwe         Crustaceans 2012-01-01      0  2012\n",
      "23109  Zimbabwe         Crustaceans 2013-01-01      0  2013\n",
      "\n",
      "[23110 rows x 5 columns]\n"
     ]
    }
   ],
   "source": [
    "print(afp)"
   ]
  },
  {
   "cell_type": "code",
   "execution_count": 58,
   "id": "d9c39660",
   "metadata": {},
   "outputs": [],
   "source": [
    "afpnew = afp.drop('Year',axis = 1)"
   ]
  },
  {
   "cell_type": "markdown",
   "id": "caca0ff2",
   "metadata": {},
   "source": [
    "#### Checking for missing values"
   ]
  },
  {
   "cell_type": "code",
   "execution_count": 59,
   "id": "3f066b81",
   "metadata": {},
   "outputs": [
    {
     "data": {
      "text/html": [
       "<div>\n",
       "<style scoped>\n",
       "    .dataframe tbody tr th:only-of-type {\n",
       "        vertical-align: middle;\n",
       "    }\n",
       "\n",
       "    .dataframe tbody tr th {\n",
       "        vertical-align: top;\n",
       "    }\n",
       "\n",
       "    .dataframe thead th {\n",
       "        text-align: right;\n",
       "    }\n",
       "</style>\n",
       "<table border=\"1\" class=\"dataframe\">\n",
       "  <thead>\n",
       "    <tr style=\"text-align: right;\">\n",
       "      <th></th>\n",
       "      <th>Country</th>\n",
       "      <th>Item</th>\n",
       "      <th>Value</th>\n",
       "      <th>year</th>\n",
       "    </tr>\n",
       "  </thead>\n",
       "  <tbody>\n",
       "  </tbody>\n",
       "</table>\n",
       "</div>"
      ],
      "text/plain": [
       "Empty DataFrame\n",
       "Columns: [Country, Item, Value, year]\n",
       "Index: []"
      ]
     },
     "execution_count": 59,
     "metadata": {},
     "output_type": "execute_result"
    }
   ],
   "source": [
    "bool_series = pd.isnull(afpnew[\"Value\"])\n",
    "afpnew[bool_series]"
   ]
  },
  {
   "cell_type": "code",
   "execution_count": 60,
   "id": "fddc6db9",
   "metadata": {},
   "outputs": [
    {
     "name": "stdout",
     "output_type": "stream",
     "text": [
      "        Country                Item  Value  year\n",
      "0       Algeria  Wheat and products   2731  2004\n",
      "1       Algeria  Wheat and products   2415  2005\n",
      "2       Algeria  Wheat and products   2688  2006\n",
      "3       Algeria  Wheat and products   2319  2007\n",
      "4       Algeria  Wheat and products   1111  2008\n",
      "...         ...                 ...    ...   ...\n",
      "23105  Zimbabwe         Crustaceans      0  2009\n",
      "23106  Zimbabwe         Crustaceans      0  2010\n",
      "23107  Zimbabwe         Crustaceans      0  2011\n",
      "23108  Zimbabwe         Crustaceans      0  2012\n",
      "23109  Zimbabwe         Crustaceans      0  2013\n",
      "\n",
      "[23110 rows x 4 columns]\n"
     ]
    }
   ],
   "source": [
    "print(afpnew)"
   ]
  },
  {
   "cell_type": "code",
   "execution_count": 85,
   "id": "3d66357c",
   "metadata": {},
   "outputs": [
    {
     "name": "stdout",
     "output_type": "stream",
     "text": [
      "Empty DataFrame\n",
      "Columns: [Country, Item, Value, year]\n",
      "Index: []\n"
     ]
    }
   ],
   "source": [
    "print(afpnew[afpnew[\"Item\"]==\"rice\"].to_string())"
   ]
  },
  {
   "cell_type": "markdown",
   "id": "1ab4e32d",
   "metadata": {},
   "source": [
    "####  Getting the InterQuartile Range"
   ]
  },
  {
   "cell_type": "code",
   "execution_count": 78,
   "id": "23f767d6",
   "metadata": {},
   "outputs": [
    {
     "name": "stdout",
     "output_type": "stream",
     "text": [
      "105.0\n"
     ]
    }
   ],
   "source": [
    "#IQR\n",
    "Q1p= np.percentile(afpnew['Value'], 25, interpolation = 'midpoint')\n",
    "Q3p= np.percentile(afpnew['Value'], 75, interpolation = 'midpoint')\n",
    "IQRp= Q3 - Q1\n",
    "print(IQRp)"
   ]
  },
  {
   "cell_type": "code",
   "execution_count": 80,
   "id": "0e9348ef",
   "metadata": {},
   "outputs": [
    {
     "name": "stdout",
     "output_type": "stream",
     "text": [
      "Old shape:  (23110, 4)\n",
      "(array([    0,     1,     2, ..., 23087, 23088, 23089], dtype=int64),)\n",
      "(array([   10,    11,    12, ..., 23107, 23108, 23109], dtype=int64),)\n"
     ]
    }
   ],
   "source": [
    "print(\"Old shape: \",afpnew.shape)\n",
    "#upper bound\n",
    "upper_p = np.where(afpnew['Value'] >= (Q3p+1.5*IQR))\n",
    "#lower bound\n",
    "lower_p = np.where(afpnew['Value'] <= (Q1p+1.5*IQR))\n",
    "print(upper_p)\n",
    "print( lower_p)"
   ]
  },
  {
   "cell_type": "code",
   "execution_count": 49,
   "id": "4058375a",
   "metadata": {
    "scrolled": true
   },
   "outputs": [
    {
     "name": "stdout",
     "output_type": "stream",
     "text": [
      "New shape:  (1134, 4)\n"
     ]
    }
   ],
   "source": [
    "#removingoutliers\n",
    "afpnew.drop(upper[0], inplace = True)\n",
    "afpnew.drop(lower[0], inplace = True)\n",
    "print(\"New shape: \",afpnew.shape)"
   ]
  },
  {
   "cell_type": "code",
   "execution_count": 50,
   "id": "a79a1ec4",
   "metadata": {
    "scrolled": true
   },
   "outputs": [
    {
     "name": "stdout",
     "output_type": "stream",
     "text": [
      "        Country                          Item  Value  year\n",
      "192     Algeria  Olives (including preserved)    265  2006\n",
      "193     Algeria  Olives (including preserved)    209  2007\n",
      "194     Algeria  Olives (including preserved)    254  2008\n",
      "330     Algeria           Apples and products    165  2004\n",
      "331     Algeria           Apples and products    200  2005\n",
      "...         ...                           ...    ...   ...\n",
      "22789  Zimbabwe             Vegetables, Other    203  2013\n",
      "22943  Zimbabwe                          Beer    162  2007\n",
      "22944  Zimbabwe                          Beer    206  2008\n",
      "22945  Zimbabwe                          Beer    240  2009\n",
      "22946  Zimbabwe                          Beer    254  2010\n",
      "\n",
      "[1134 rows x 4 columns]\n"
     ]
    }
   ],
   "source": [
    "print(afpnew)"
   ]
  },
  {
   "cell_type": "markdown",
   "id": "705710f3",
   "metadata": {},
   "source": [
    "#### Getting data for visualizing"
   ]
  },
  {
   "cell_type": "code",
   "execution_count": 51,
   "id": "e6ceee66",
   "metadata": {},
   "outputs": [],
   "source": [
    "afpnew_gb_cs = afpnew.groupby('Country')['Value'].sum()"
   ]
  },
  {
   "cell_type": "markdown",
   "id": "655ba9a8",
   "metadata": {},
   "source": [
    "#### Visualization1"
   ]
  },
  {
   "cell_type": "code",
   "execution_count": 52,
   "id": "6c2c080c",
   "metadata": {},
   "outputs": [
    {
     "data": {
      "text/plain": [
       "([0,\n",
       "  1,\n",
       "  2,\n",
       "  3,\n",
       "  4,\n",
       "  5,\n",
       "  6,\n",
       "  7,\n",
       "  8,\n",
       "  9,\n",
       "  10,\n",
       "  11,\n",
       "  12,\n",
       "  13,\n",
       "  14,\n",
       "  15,\n",
       "  16,\n",
       "  17,\n",
       "  18,\n",
       "  19,\n",
       "  20,\n",
       "  21,\n",
       "  22,\n",
       "  23,\n",
       "  24,\n",
       "  25,\n",
       "  26,\n",
       "  27,\n",
       "  28,\n",
       "  29,\n",
       "  30,\n",
       "  31,\n",
       "  32,\n",
       "  33,\n",
       "  34,\n",
       "  35,\n",
       "  36],\n",
       " [Text(0, 0, ''),\n",
       "  Text(0, 0, ''),\n",
       "  Text(0, 0, ''),\n",
       "  Text(0, 0, ''),\n",
       "  Text(0, 0, ''),\n",
       "  Text(0, 0, ''),\n",
       "  Text(0, 0, ''),\n",
       "  Text(0, 0, ''),\n",
       "  Text(0, 0, ''),\n",
       "  Text(0, 0, ''),\n",
       "  Text(0, 0, ''),\n",
       "  Text(0, 0, ''),\n",
       "  Text(0, 0, ''),\n",
       "  Text(0, 0, ''),\n",
       "  Text(0, 0, ''),\n",
       "  Text(0, 0, ''),\n",
       "  Text(0, 0, ''),\n",
       "  Text(0, 0, ''),\n",
       "  Text(0, 0, ''),\n",
       "  Text(0, 0, ''),\n",
       "  Text(0, 0, ''),\n",
       "  Text(0, 0, ''),\n",
       "  Text(0, 0, ''),\n",
       "  Text(0, 0, ''),\n",
       "  Text(0, 0, ''),\n",
       "  Text(0, 0, ''),\n",
       "  Text(0, 0, ''),\n",
       "  Text(0, 0, ''),\n",
       "  Text(0, 0, ''),\n",
       "  Text(0, 0, ''),\n",
       "  Text(0, 0, ''),\n",
       "  Text(0, 0, ''),\n",
       "  Text(0, 0, ''),\n",
       "  Text(0, 0, ''),\n",
       "  Text(0, 0, ''),\n",
       "  Text(0, 0, ''),\n",
       "  Text(0, 0, '')])"
      ]
     },
     "execution_count": 52,
     "metadata": {},
     "output_type": "execute_result"
    },
    {
     "data": {
      "image/png": "[encoded data removed]",
      "text/plain": [
       "<Figure size 432x288 with 1 Axes>"
      ]
     },
     "metadata": {
      "needs_background": "light"
     },
     "output_type": "display_data"
    }
   ],
   "source": [
    "plt.plot(afpnew_gb_cs)\n",
    "plt.xticks(rotation=90)"
   ]
  },
  {
   "cell_type": "code",
   "execution_count": 13,
   "id": "3abf2394",
   "metadata": {},
   "outputs": [],
   "source": [
    "afpnew_gb_cm = afpnew.groupby('Country')['Value'].agg()"
   ]
  },
  {
   "cell_type": "code",
   "execution_count": 16,
   "id": "326a43f6",
   "metadata": {
    "scrolled": true
   },
   "outputs": [
    {
     "name": "stdout",
     "output_type": "stream",
     "text": [
      "                                    mean\n",
      "Country                                 \n",
      "Algeria                       325.258621\n",
      "Angola                        362.035185\n",
      "Benin                         149.274576\n",
      "Botswana                       14.141176\n",
      "Burkina Faso                  232.858140\n",
      "Cabo Verde                      5.024242\n",
      "Cameroon                      304.107692\n",
      "Central African Republic       55.380000\n",
      "Chad                          115.584615\n",
      "Congo                          51.582000\n",
      "Cote d'Ivoire                 285.134375\n",
      "Djibouti                        3.027273\n",
      "Egypt                        1253.568571\n",
      "Ethiopia                      584.488333\n",
      "Gabon                          33.915000\n",
      "Gambia                         13.052778\n",
      "Ghana                         508.627586\n",
      "Guinea                        133.696000\n",
      "Guinea-Bissau                  16.581818\n",
      "Kenya                         342.496000\n",
      "Lesotho                        16.456522\n",
      "Liberia                        34.897619\n",
      "Madagascar                    192.856522\n",
      "Malawi                        320.243750\n",
      "Mali                          192.275000\n",
      "Mauritania                     26.418421\n",
      "Mauritius                     112.576087\n",
      "Morocco                       353.014286\n",
      "Mozambique                    254.167742\n",
      "Namibia                        33.016279\n",
      "Niger                         201.879070\n",
      "Nigeria                      2668.901639\n",
      "Rwanda                        206.900000\n",
      "Sao Tome and Principe           3.972414\n",
      "Senegal                        95.026923\n",
      "Sierra Leone                   95.474000\n",
      "South Africa                  772.789333\n",
      "Sudan                         558.488889\n",
      "Swaziland                     149.202381\n",
      "Togo                           57.419643\n",
      "Tunisia                       151.988525\n",
      "Uganda                        497.180357\n",
      "United Republic of Tanzania   421.268354\n",
      "Zambia                        172.293750\n",
      "Zimbabwe                      114.556250\n"
     ]
    }
   ],
   "source": [
    "print(afpnew_gb_cm)"
   ]
  },
  {
   "cell_type": "code",
   "execution_count": null,
   "id": "90d98d64",
   "metadata": {},
   "outputs": [],
   "source": []
  },
  {
   "cell_type": "code",
   "execution_count": 20,
   "id": "660ae919",
   "metadata": {
    "scrolled": true
   },
   "outputs": [
    {
     "data": {
      "text/plain": [
       "([0,\n",
       "  1,\n",
       "  2,\n",
       "  3,\n",
       "  4,\n",
       "  5,\n",
       "  6,\n",
       "  7,\n",
       "  8,\n",
       "  9,\n",
       "  10,\n",
       "  11,\n",
       "  12,\n",
       "  13,\n",
       "  14,\n",
       "  15,\n",
       "  16,\n",
       "  17,\n",
       "  18,\n",
       "  19,\n",
       "  20,\n",
       "  21,\n",
       "  22,\n",
       "  23,\n",
       "  24,\n",
       "  25,\n",
       "  26,\n",
       "  27,\n",
       "  28,\n",
       "  29,\n",
       "  30,\n",
       "  31,\n",
       "  32,\n",
       "  33,\n",
       "  34,\n",
       "  35,\n",
       "  36,\n",
       "  37,\n",
       "  38,\n",
       "  39,\n",
       "  40,\n",
       "  41,\n",
       "  42,\n",
       "  43,\n",
       "  44],\n",
       " [Text(0, 0, ''),\n",
       "  Text(0, 0, ''),\n",
       "  Text(0, 0, ''),\n",
       "  Text(0, 0, ''),\n",
       "  Text(0, 0, ''),\n",
       "  Text(0, 0, ''),\n",
       "  Text(0, 0, ''),\n",
       "  Text(0, 0, ''),\n",
       "  Text(0, 0, ''),\n",
       "  Text(0, 0, ''),\n",
       "  Text(0, 0, ''),\n",
       "  Text(0, 0, ''),\n",
       "  Text(0, 0, ''),\n",
       "  Text(0, 0, ''),\n",
       "  Text(0, 0, ''),\n",
       "  Text(0, 0, ''),\n",
       "  Text(0, 0, ''),\n",
       "  Text(0, 0, ''),\n",
       "  Text(0, 0, ''),\n",
       "  Text(0, 0, ''),\n",
       "  Text(0, 0, ''),\n",
       "  Text(0, 0, ''),\n",
       "  Text(0, 0, ''),\n",
       "  Text(0, 0, ''),\n",
       "  Text(0, 0, ''),\n",
       "  Text(0, 0, ''),\n",
       "  Text(0, 0, ''),\n",
       "  Text(0, 0, ''),\n",
       "  Text(0, 0, ''),\n",
       "  Text(0, 0, ''),\n",
       "  Text(0, 0, ''),\n",
       "  Text(0, 0, ''),\n",
       "  Text(0, 0, ''),\n",
       "  Text(0, 0, ''),\n",
       "  Text(0, 0, ''),\n",
       "  Text(0, 0, ''),\n",
       "  Text(0, 0, ''),\n",
       "  Text(0, 0, ''),\n",
       "  Text(0, 0, ''),\n",
       "  Text(0, 0, ''),\n",
       "  Text(0, 0, ''),\n",
       "  Text(0, 0, ''),\n",
       "  Text(0, 0, ''),\n",
       "  Text(0, 0, ''),\n",
       "  Text(0, 0, '')])"
      ]
     },
     "execution_count": 20,
     "metadata": {},
     "output_type": "execute_result"
    },
    {
     "data": {
      "image/png": "[encoded data removed]",
      "text/plain": [
       "<Figure size 432x288 with 1 Axes>"
      ]
     },
     "metadata": {
      "needs_background": "light"
     },
     "output_type": "display_data"
    }
   ],
   "source": [
    "plt.plot(afpnew_gb_cm)\n",
    "plt.xlabel('Country')\n",
    "plt.ylabel('Average Production')\n",
    "plt.xticks(rotation=90)"
   ]
  },
  {
   "cell_type": "markdown",
   "id": "57ef28ad",
   "metadata": {},
   "source": [
    "#### Importing second dataset"
   ]
  },
  {
   "cell_type": "code",
   "execution_count": 31,
   "id": "eb2d68be",
   "metadata": {},
   "outputs": [],
   "source": [
    "afs = pd.read_csv(r\"C:\\Users\\kvng HARDEYPORNLAY\\Downloads\\Africa Food Supply (2004 - 2013).csv\")"
   ]
  },
  {
   "cell_type": "code",
   "execution_count": 32,
   "id": "3dc6e545",
   "metadata": {},
   "outputs": [
    {
     "name": "stdout",
     "output_type": "stream",
     "text": [
      "      Country  Year  Value\n",
      "0     Algeria  2004   2987\n",
      "1     Algeria  2005   2958\n",
      "2     Algeria  2006   3047\n",
      "3     Algeria  2007   3041\n",
      "4     Algeria  2008   3048\n",
      "..        ...   ...    ...\n",
      "445  Zimbabwe  2009   2147\n",
      "446  Zimbabwe  2010   2168\n",
      "447  Zimbabwe  2011   2200\n",
      "448  Zimbabwe  2012   2197\n",
      "449  Zimbabwe  2013   2110\n",
      "\n",
      "[450 rows x 3 columns]\n"
     ]
    }
   ],
   "source": [
    "print(afs)"
   ]
  },
  {
   "cell_type": "markdown",
   "id": "f2b013e5",
   "metadata": {},
   "source": [
    "#### converting the Year column "
   ]
  },
  {
   "cell_type": "code",
   "execution_count": 67,
   "id": "a67e4142",
   "metadata": {},
   "outputs": [],
   "source": [
    "afs['Year'] = pd.to_datetime(afs['Year'],format='%Y')"
   ]
  },
  {
   "cell_type": "code",
   "execution_count": 65,
   "id": "2ba5838d",
   "metadata": {
    "scrolled": true
   },
   "outputs": [
    {
     "name": "stdout",
     "output_type": "stream",
     "text": [
      "      Country  Year  Value\n",
      "0     Algeria  2004   2987\n",
      "1     Algeria  2005   2958\n",
      "2     Algeria  2006   3047\n",
      "3     Algeria  2007   3041\n",
      "4     Algeria  2008   3048\n",
      "..        ...   ...    ...\n",
      "445  Zimbabwe  2009   2147\n",
      "446  Zimbabwe  2010   2168\n",
      "447  Zimbabwe  2011   2200\n",
      "448  Zimbabwe  2012   2197\n",
      "449  Zimbabwe  2013   2110\n",
      "\n",
      "[450 rows x 3 columns]\n"
     ]
    }
   ],
   "source": [
    "print(afs)"
   ]
  },
  {
   "cell_type": "code",
   "execution_count": 68,
   "id": "04e7362a",
   "metadata": {},
   "outputs": [],
   "source": [
    "afs['year'] = pd.DatetimeIndex(afs['Year']).year\n",
    "afs['year'] = afs['Year'].dt.year"
   ]
  },
  {
   "cell_type": "code",
   "execution_count": 69,
   "id": "c67e482e",
   "metadata": {},
   "outputs": [],
   "source": [
    "afsnew = afs.drop('Year',axis = 1)"
   ]
  },
  {
   "cell_type": "code",
   "execution_count": 75,
   "id": "36f9bf82",
   "metadata": {},
   "outputs": [
    {
     "data": {
      "text/html": [
       "<div>\n",
       "<style scoped>\n",
       "    .dataframe tbody tr th:only-of-type {\n",
       "        vertical-align: middle;\n",
       "    }\n",
       "\n",
       "    .dataframe tbody tr th {\n",
       "        vertical-align: top;\n",
       "    }\n",
       "\n",
       "    .dataframe thead th {\n",
       "        text-align: right;\n",
       "    }\n",
       "</style>\n",
       "<table border=\"1\" class=\"dataframe\">\n",
       "  <thead>\n",
       "    <tr style=\"text-align: right;\">\n",
       "      <th></th>\n",
       "      <th>Country</th>\n",
       "      <th>Value</th>\n",
       "      <th>year</th>\n",
       "    </tr>\n",
       "  </thead>\n",
       "  <tbody>\n",
       "  </tbody>\n",
       "</table>\n",
       "</div>"
      ],
      "text/plain": [
       "Empty DataFrame\n",
       "Columns: [Country, Value, year]\n",
       "Index: []"
      ]
     },
     "execution_count": 75,
     "metadata": {},
     "output_type": "execute_result"
    }
   ],
   "source": [
    "bool_series = pd.isnull(afsnew[\"Value\"])\n",
    "afsnew[bool_series]"
   ]
  },
  {
   "cell_type": "code",
   "execution_count": 71,
   "id": "f696e756",
   "metadata": {
    "scrolled": true
   },
   "outputs": [
    {
     "name": "stdout",
     "output_type": "stream",
     "text": [
      "      Country  Value  year\n",
      "0     Algeria   2987  2004\n",
      "1     Algeria   2958  2005\n",
      "2     Algeria   3047  2006\n",
      "3     Algeria   3041  2007\n",
      "4     Algeria   3048  2008\n",
      "..        ...    ...   ...\n",
      "445  Zimbabwe   2147  2009\n",
      "446  Zimbabwe   2168  2010\n",
      "447  Zimbabwe   2200  2011\n",
      "448  Zimbabwe   2197  2012\n",
      "449  Zimbabwe   2110  2013\n",
      "\n",
      "[450 rows x 3 columns]\n"
     ]
    }
   ],
   "source": [
    "print(afsnew)"
   ]
  },
  {
   "cell_type": "code",
   "execution_count": 72,
   "id": "1765efb9",
   "metadata": {},
   "outputs": [
    {
     "name": "stdout",
     "output_type": "stream",
     "text": [
      "<class 'pandas.core.frame.DataFrame'>\n",
      "RangeIndex: 450 entries, 0 to 449\n",
      "Data columns (total 3 columns):\n",
      " #   Column   Non-Null Count  Dtype \n",
      "---  ------   --------------  ----- \n",
      " 0   Country  450 non-null    object\n",
      " 1   Value    450 non-null    int64 \n",
      " 2   year     450 non-null    int64 \n",
      "dtypes: int64(2), object(1)\n",
      "memory usage: 10.7+ KB\n"
     ]
    }
   ],
   "source": [
    "afsnew.info()"
   ]
  },
  {
   "cell_type": "markdown",
   "id": "13bd1f1e",
   "metadata": {},
   "source": [
    "#### Group to get a table"
   ]
  },
  {
   "cell_type": "code",
   "execution_count": 35,
   "id": "d8153e62",
   "metadata": {
    "scrolled": true
   },
   "outputs": [
    {
     "name": "stdout",
     "output_type": "stream",
     "text": [
      "                               mean\n",
      "Country                            \n",
      "Algeria                      3111.8\n",
      "Angola                       2255.6\n",
      "Benin                        2537.8\n",
      "Botswana                     2226.3\n",
      "Burkina Faso                 2607.2\n",
      "Cabo Verde                   2551.4\n",
      "Cameroon                     2460.3\n",
      "Central African Republic     2071.9\n",
      "Chad                         2051.1\n",
      "Congo                        2153.0\n",
      "Cote d'Ivoire                2766.6\n",
      "Djibouti                     2416.5\n",
      "Egypt                        3458.0\n",
      "Ethiopia                     2029.2\n",
      "Gabon                        2729.9\n",
      "Gambia                       2569.5\n",
      "Ghana                        2918.0\n",
      "Guinea                       2518.0\n",
      "Guinea-Bissau                2296.3\n",
      "Kenya                        2145.3\n",
      "Lesotho                      2558.8\n",
      "Liberia                      2182.7\n",
      "Madagascar                   2060.8\n",
      "Malawi                       2292.5\n",
      "Mali                         2750.2\n",
      "Mauritania                   2744.3\n",
      "Mauritius                    3054.3\n",
      "Morocco                      3296.7\n",
      "Mozambique                   2170.2\n",
      "Namibia                      2160.2\n",
      "Niger                        2502.4\n",
      "Nigeria                      2698.8\n",
      "Rwanda                       2130.9\n",
      "Sao Tome and Principe        2446.2\n",
      "Senegal                      2378.4\n",
      "Sierra Leone                 2229.1\n",
      "South Africa                 2962.9\n",
      "Sudan                        2323.8\n",
      "Swaziland                    2317.1\n",
      "Togo                         2333.9\n",
      "Tunisia                      3305.5\n",
      "Uganda                       2220.5\n",
      "United Republic of Tanzania  2155.0\n",
      "Zambia                       1870.1\n",
      "Zimbabwe                     2120.9\n"
     ]
    }
   ],
   "source": [
    "afsnew_gb_cm = afsnew.groupby('Country')['Value'].agg([np.mean])\n",
    "print(afsnew_gb_cm)"
   ]
  },
  {
   "cell_type": "markdown",
   "id": "f357532d",
   "metadata": {},
   "source": [
    "#### Visualization for the table"
   ]
  },
  {
   "cell_type": "code",
   "execution_count": 36,
   "id": "184453b1",
   "metadata": {},
   "outputs": [
    {
     "data": {
      "text/plain": [
       "([0,\n",
       "  1,\n",
       "  2,\n",
       "  3,\n",
       "  4,\n",
       "  5,\n",
       "  6,\n",
       "  7,\n",
       "  8,\n",
       "  9,\n",
       "  10,\n",
       "  11,\n",
       "  12,\n",
       "  13,\n",
       "  14,\n",
       "  15,\n",
       "  16,\n",
       "  17,\n",
       "  18,\n",
       "  19,\n",
       "  20,\n",
       "  21,\n",
       "  22,\n",
       "  23,\n",
       "  24,\n",
       "  25,\n",
       "  26,\n",
       "  27,\n",
       "  28,\n",
       "  29,\n",
       "  30,\n",
       "  31,\n",
       "  32,\n",
       "  33,\n",
       "  34,\n",
       "  35,\n",
       "  36,\n",
       "  37,\n",
       "  38,\n",
       "  39,\n",
       "  40,\n",
       "  41,\n",
       "  42,\n",
       "  43,\n",
       "  44],\n",
       " [Text(0, 0, ''),\n",
       "  Text(0, 0, ''),\n",
       "  Text(0, 0, ''),\n",
       "  Text(0, 0, ''),\n",
       "  Text(0, 0, ''),\n",
       "  Text(0, 0, ''),\n",
       "  Text(0, 0, ''),\n",
       "  Text(0, 0, ''),\n",
       "  Text(0, 0, ''),\n",
       "  Text(0, 0, ''),\n",
       "  Text(0, 0, ''),\n",
       "  Text(0, 0, ''),\n",
       "  Text(0, 0, ''),\n",
       "  Text(0, 0, ''),\n",
       "  Text(0, 0, ''),\n",
       "  Text(0, 0, ''),\n",
       "  Text(0, 0, ''),\n",
       "  Text(0, 0, ''),\n",
       "  Text(0, 0, ''),\n",
       "  Text(0, 0, ''),\n",
       "  Text(0, 0, ''),\n",
       "  Text(0, 0, ''),\n",
       "  Text(0, 0, ''),\n",
       "  Text(0, 0, ''),\n",
       "  Text(0, 0, ''),\n",
       "  Text(0, 0, ''),\n",
       "  Text(0, 0, ''),\n",
       "  Text(0, 0, ''),\n",
       "  Text(0, 0, ''),\n",
       "  Text(0, 0, ''),\n",
       "  Text(0, 0, ''),\n",
       "  Text(0, 0, ''),\n",
       "  Text(0, 0, ''),\n",
       "  Text(0, 0, ''),\n",
       "  Text(0, 0, ''),\n",
       "  Text(0, 0, ''),\n",
       "  Text(0, 0, ''),\n",
       "  Text(0, 0, ''),\n",
       "  Text(0, 0, ''),\n",
       "  Text(0, 0, ''),\n",
       "  Text(0, 0, ''),\n",
       "  Text(0, 0, ''),\n",
       "  Text(0, 0, ''),\n",
       "  Text(0, 0, ''),\n",
       "  Text(0, 0, '')])"
      ]
     },
     "execution_count": 36,
     "metadata": {},
     "output_type": "execute_result"
    },
    {
     "data": {
      "image/png": "[encoded data removed]",
      "text/plain": [
       "<Figure size 432x288 with 1 Axes>"
      ]
     },
     "metadata": {
      "needs_background": "light"
     },
     "output_type": "display_data"
    }
   ],
   "source": [
    "plt.plot(afsnew_gb_cm)\n",
    "plt.xlabel('Country')\n",
    "plt.ylabel('Average Supply')\n",
    "plt.xticks(rotation=90)"
   ]
  },
  {
   "cell_type": "markdown",
   "id": "44ec85d6",
   "metadata": {},
   "source": [
    "#### Gettint the InterQuartileRange"
   ]
  },
  {
   "cell_type": "code",
   "execution_count": 76,
   "id": "13feda6c",
   "metadata": {},
   "outputs": [
    {
     "name": "stdout",
     "output_type": "stream",
     "text": [
      "506.5\n"
     ]
    }
   ],
   "source": [
    "#IQR\n",
    "Q1s = np.percentile(afsnew['Value'], 25, interpolation = 'midpoint')\n",
    "Q3s = np.percentile(afsnew['Value'], 75, interpolation = 'midpoint')\n",
    "IQRs = Q3s - Q1s\n",
    "print(IQRs)"
   ]
  },
  {
   "cell_type": "code",
   "execution_count": 81,
   "id": "052d5a3c",
   "metadata": {},
   "outputs": [
    {
     "name": "stdout",
     "output_type": "stream",
     "text": [
      "Old shape:  (450, 3)\n",
      "(array([123, 124, 126, 127, 128, 129], dtype=int64),)\n",
      "(array([ 10,  11,  12,  13,  14,  15,  16,  17,  18,  19,  20,  21,  22,\n",
      "        23,  24,  25,  26,  27,  28,  29,  30,  31,  32,  33,  34,  35,\n",
      "        36,  37,  38,  39,  40,  41,  42,  43,  44,  45,  46,  47,  48,\n",
      "        49,  50,  51,  52,  53,  54,  55,  56,  57,  58,  59,  60,  61,\n",
      "        62,  63,  64,  65,  66,  67,  68,  69,  70,  71,  72,  73,  74,\n",
      "        75,  76,  77,  78,  79,  80,  81,  82,  83,  84,  85,  86,  87,\n",
      "        88,  89,  90,  91,  92,  93,  94,  95,  96,  97,  98,  99, 100,\n",
      "       101, 102, 103, 104, 105, 106, 107, 108, 109, 110, 111, 112, 113,\n",
      "       114, 115, 116, 117, 118, 119, 130, 131, 132, 133, 134, 135, 136,\n",
      "       137, 138, 139, 140, 141, 142, 143, 144, 145, 146, 147, 148, 149,\n",
      "       150, 151, 152, 153, 154, 155, 156, 157, 158, 159, 160, 161, 162,\n",
      "       163, 170, 171, 172, 173, 174, 175, 176, 177, 178, 179, 180, 181,\n",
      "       182, 183, 184, 185, 186, 187, 188, 189, 190, 191, 192, 193, 194,\n",
      "       195, 196, 197, 198, 199, 200, 201, 202, 203, 204, 205, 206, 207,\n",
      "       208, 209, 210, 211, 212, 213, 214, 215, 216, 217, 218, 219, 220,\n",
      "       221, 222, 223, 224, 225, 226, 227, 228, 229, 230, 231, 232, 233,\n",
      "       234, 235, 236, 237, 238, 239, 240, 241, 242, 243, 244, 245, 246,\n",
      "       247, 248, 249, 250, 251, 252, 253, 254, 255, 256, 257, 258, 259,\n",
      "       280, 281, 282, 283, 284, 285, 286, 287, 288, 289, 290, 291, 292,\n",
      "       293, 294, 295, 296, 297, 298, 299, 300, 301, 302, 303, 304, 305,\n",
      "       306, 307, 308, 309, 310, 311, 312, 313, 314, 315, 316, 317, 318,\n",
      "       319, 320, 321, 322, 323, 324, 325, 326, 327, 328, 329, 330, 331,\n",
      "       332, 333, 334, 335, 336, 337, 338, 339, 340, 341, 342, 343, 344,\n",
      "       345, 346, 347, 348, 349, 350, 351, 352, 353, 354, 355, 356, 357,\n",
      "       358, 359, 362, 363, 364, 370, 371, 372, 373, 374, 375, 376, 377,\n",
      "       378, 379, 380, 381, 382, 383, 384, 385, 386, 387, 388, 389, 390,\n",
      "       391, 392, 393, 394, 395, 396, 397, 398, 399, 410, 411, 412, 413,\n",
      "       414, 415, 416, 417, 418, 419, 420, 421, 422, 423, 424, 425, 426,\n",
      "       427, 428, 429, 430, 431, 432, 433, 434, 435, 436, 437, 438, 439,\n",
      "       440, 441, 442, 443, 444, 445, 446, 447, 448, 449], dtype=int64),)\n"
     ]
    }
   ],
   "source": [
    "print(\"Old shape: \",afsnew.shape)\n",
    "#upper bound\n",
    "upper_s = np.where(afsnew['Value'] >= (Q3s+1.5*IQRs))\n",
    "#lower bound\n",
    "lower_s = np.where(afsnew['Value'] <= (Q1s+1.5*IQRs))\n",
    "print(upper_s)\n",
    "print( lower_s)"
   ]
  }
 ],
 "metadata": {
  "kernelspec": {
   "display_name": "Python 3 (ipykernel)",
   "language": "python",
   "name": "python3"
  },
  "language_info": {
   "codemirror_mode": {
    "name": "ipython",
    "version": 3
   },
   "file_extension": ".py",
   "mimetype": "text/x-python",
   "name": "python",
   "nbconvert_exporter": "python",
   "pygments_lexer": "ipython3",
   "version": "3.9.12"
  }
 },
 "nbformat": 4,
 "nbformat_minor": 5
}
